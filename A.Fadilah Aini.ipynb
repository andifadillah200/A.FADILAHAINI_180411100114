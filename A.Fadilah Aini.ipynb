{
 "cells": [
  {
   "cell_type": "code",
   "execution_count": 1,
   "metadata": {},
   "outputs": [
    {
     "name": "stdout",
     "output_type": "stream",
     "text": [
      "Detail kolom 61\n",
      "rata-rata:  60.79559118236473\n",
      "Median:  62.0\n",
      "Modus:  ModeResult(mode=array([64]), count=array([18]))\n",
      "Standard deviasi:  11.589950582734287\n",
      "varian:  0.1906380110355147\n",
      "Skewness:  -0.12646695150965023\n",
      "Quartil 1:  50.0\n",
      "Quartil 2:  62.0\n",
      "Quartil 3:  71.0\n"
     ]
    },
    {
     "name": "stderr",
     "output_type": "stream",
     "text": [
      "C:\\Users\\HP\\Anaconda3\\lib\\site-packages\\scipy\\stats\\stats.py:1713: FutureWarning: Using a non-tuple sequence for multidimensional indexing is deprecated; use `arr[tuple(seq)]` instead of `arr[seq]`. In the future this will be interpreted as an array index, `arr[np.array(seq)]`, which will result either in an error or a different result.\n",
      "  return np.add.reduce(sorted[indexer] * weights, axis=axis) / sumval\n"
     ]
    },
    {
     "name": "stdout",
     "output_type": "stream",
     "text": [
      "\n",
      "\n",
      "Detail kolom 75\n",
      "rata-rata:  59.829659318637276\n",
      "Median:  60.0\n",
      "Modus:  ModeResult(mode=array([74]), count=array([25]))\n",
      "Standard deviasi:  12.272500585676056\n",
      "varian:  0.20512402586676778\n",
      "Skewness:  -0.011342547630916588\n",
      "Quartil 1:  49.0\n",
      "Quartil 2:  60.0\n",
      "Quartil 3:  71.0\n",
      "\n",
      "\n",
      "Detail kolom 62\n",
      "rata-rata:  59.88376753507014\n",
      "Median:  60.0\n",
      "Modus:  ModeResult(mode=array([46]), count=array([20]))\n",
      "Standard deviasi:  11.987907945420833\n",
      "varian:  0.20018626814687757\n",
      "Skewness:  -0.023513365862310294\n",
      "Quartil 1:  49.0\n",
      "Quartil 2:  60.0\n",
      "Quartil 3:  70.0\n",
      "\n",
      "\n",
      "Detail kolom 62.1\n",
      "rata-rata:  59.62725450901804\n",
      "Median:  60.0\n",
      "Modus:  ModeResult(mode=array([52]), count=array([19]))\n",
      "Standard deviasi:  11.32138180830651\n",
      "varian:  0.18986924522232132\n",
      "Skewness:  0.07811727556255692\n",
      "Quartil 1:  50.0\n",
      "Quartil 2:  60.0\n",
      "Quartil 3:  69.0\n",
      "\n",
      "\n"
     ]
    }
   ],
   "source": [
    "import pandas as pd\n",
    "from scipy import stats\n",
    "import numpy as np\n",
    "import seaborn as sns\n",
    "import matplotlib as plt\n",
    "data = pd.read_csv(\"ANDIAJADOANG.csv\",delimiter=\";\")\n",
    "cm = sns.light_palette(\"gold\", as_cmap=True)\n",
    "data.style.background_gradient(cmap=cm)\n",
    "\n",
    "colum = data.columns.tolist()\n",
    "for x in colum :\n",
    "    ds = [x for x in data[x]]\n",
    "    desc = data[x].describe()\n",
    "    array = [x for x in desc]\n",
    "    print(\"Detail kolom\",x)\n",
    "    print(\"rata-rata: \",array[1])\n",
    "    print(\"Median: \",np.median(np.array(ds)))\n",
    "    print(\"Modus: \",stats.mode(ds))\n",
    "    print(\"Standard deviasi: \",np.std(ds))\n",
    "    print(\"varian: \",stats.variation(ds))\n",
    "    print(\"Skewness: \",stats.skew(ds))\n",
    "    print(\"Quartil 1: \",array[4])\n",
    "    print(\"Quartil 2: \",array[5])\n",
    "    print(\"Quartil 3: \",array[6])\n",
    "    sns.distplot(data[x])\n",
    "    \n",
    "    print(\"\\n\")"
   ]
  },
  {
   "cell_type": "code",
   "execution_count": null,
   "metadata": {},
   "outputs": [],
   "source": []
  }
 ],
 "metadata": {
  "kernelspec": {
   "display_name": "Python 3",
   "language": "python",
   "name": "python3"
  },
  "language_info": {
   "codemirror_mode": {
    "name": "ipython",
    "version": 3
   },
   "file_extension": ".py",
   "mimetype": "text/x-python",
   "name": "python",
   "nbconvert_exporter": "python",
   "pygments_lexer": "ipython3",
   "version": "3.7.1"
  }
 },
 "nbformat": 4,
 "nbformat_minor": 2
}
